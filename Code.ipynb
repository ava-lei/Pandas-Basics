{
  "nbformat": 4,
  "nbformat_minor": 0,
  "metadata": {
    "colab": {
      "name": "HW2_Lei_Jiayue(Ava).ipynb",
      "provenance": [],
      "collapsed_sections": []
    },
    "kernelspec": {
      "name": "python3",
      "display_name": "Python 3"
    }
  },
  "cells": [
    {
      "cell_type": "markdown",
      "metadata": {
        "id": "bNsIruOzI4iF"
      },
      "source": [
        "## **Homework 2**\n",
        "\n",
        "### Create a copy of the notebook to start answering the questions. Name your notebook in the format HW2_lastname_firstname.ipynb to facilitate the grading process. \n",
        "\n",
        "### Answer all the questions, test your code to ensure there are no errors and the results are as expected. Once you have answered all the questions, save the final copy, then go to File-> click on Download.ipynb. Once the local copy has been downloaded, submit your file on Blackboard under the corresponding assignment section. Also provide us a link to your notebook during submission. \n",
        "\n",
        "### **The due date of this homework is 02/12/2021 (Friday).**\n",
        "\n",
        "### Please ensure you follow all the steps mentioned in the homework.\n",
        "\n",
        "### All the questions have a sample input and output to help you understand the question.\n",
        "\n",
        "### You can submit your solutions any number of times until the deadline.\n"
      ]
    },
    {
      "cell_type": "markdown",
      "metadata": {
        "id": "U3Yz3s2uio1F"
      },
      "source": [
        "**Q1. Lets consider your data is like the below cell:**\n",
        "\n",
        "**Q1-1**: Write a program that create a dataframe from the data.\n",
        "\n",
        "**Q1-2:** Select people that are psychologist or teacher and their number of cars is greater than their family size.\n",
        "\n",
        "**Q1-3:** Select people who have at most 2 family members and at least 1 car.\n",
        "\n",
        "**Q1-4:** Write a code that get number of unique jobs in this dataset.\n",
        "\n",
        "\n",
        "\n"
      ]
    },
    {
      "cell_type": "code",
      "metadata": {
        "id": "yR8lcOtcjxXD",
        "colab": {
          "base_uri": "https://localhost:8080/"
        },
        "outputId": "ba6ffc6e-e37b-42ce-cdef-8f4f6bb896b3"
      },
      "source": [
        "data = {\"name\": [\"Joseph\", \"Jacob\", \"Sam\", \"Jesee\", \"Ryan\", \"Lisa\", \"Lee\"],\n",
        "        \"job\": [\"teacher\", \"psychologist\", \"data scientist\", \"software developer\", \"psychologist\", \"psychologist\", \"teacher\"],\n",
        "        \"family_size\": [3, 2, 1, 4, 2, 3, 2],\n",
        "        \"num_cars\": [3, 1, 1, 2, 2, 4, 1]}\n",
        "#solution\n",
        "import pandas as pd\n",
        "dataFrame = pd.DataFrame(data)\n",
        "print(dataFrame) #Q1-1\n",
        "print()\n",
        "print(dataFrame[((dataFrame['job']=='psychologist')|(dataFrame['job'] == 'teacher'))&(dataFrame['num_cars']>dataFrame['family_size'])]) #Q1-2\n",
        "print()\n",
        "print(dataFrame[(dataFrame['family_size']<=2)&(dataFrame['num_cars']>=1)]) #Q1-3\n",
        "print()\n",
        "print(\"There are \" + str(len(pd.unique(dataFrame['job']))) + \" unique jobs in this dataset.\") #Q1-4"
      ],
      "execution_count": null,
      "outputs": [
        {
          "output_type": "stream",
          "text": [
            "     name                 job  family_size  num_cars\n",
            "0  Joseph             teacher            3         3\n",
            "1   Jacob        psychologist            2         1\n",
            "2     Sam      data scientist            1         1\n",
            "3   Jesee  software developer            4         2\n",
            "4    Ryan        psychologist            2         2\n",
            "5    Lisa        psychologist            3         4\n",
            "6     Lee             teacher            2         1\n",
            "\n",
            "   name           job  family_size  num_cars\n",
            "5  Lisa  psychologist            3         4\n",
            "\n",
            "    name             job  family_size  num_cars\n",
            "1  Jacob    psychologist            2         1\n",
            "2    Sam  data scientist            1         1\n",
            "4   Ryan    psychologist            2         2\n",
            "6    Lee         teacher            2         1\n",
            "\n",
            "There are 4 unique jobs in this dataset.\n"
          ],
          "name": "stdout"
        }
      ]
    },
    {
      "cell_type": "markdown",
      "metadata": {
        "id": "Ow6nG8k4l91X"
      },
      "source": [
        "**Q2. Lets consider you have two series like the below cell. Compute the mean of weights of each fruit.**"
      ]
    },
    {
      "cell_type": "code",
      "metadata": {
        "id": "u-X_DoOzVLLB",
        "colab": {
          "base_uri": "https://localhost:8080/"
        },
        "outputId": "e5e59dfe-d9cd-40ae-9713-45e8d6c782f0"
      },
      "source": [
        "import numpy as np\n",
        "import pandas as pd\n",
        "fruit = pd.Series(np.random.choice(['apple', 'banana', 'carrot'], 10))\n",
        "weights = pd.Series(np.linspace(1, 10, 10))\n",
        "#solution\n",
        "dataFrame = pd.DataFrame({'fruit': fruit,'weights': weights})\n",
        "print(dataFrame)\n",
        "print()\n",
        "meanA = np.mean((dataFrame.loc[dataFrame['fruit']=='apple','weights']))\n",
        "print(\"The averge weight of apples is \" + str(\"{:.1f}\".format(meanA)))\n",
        "meanB = np.mean((dataFrame.loc[dataFrame['fruit']=='banana','weights']))\n",
        "print(\"The averge weight of bananas is \" + str(\"{:.1f}\".format(meanB)))\n",
        "meanC = np.mean((dataFrame.loc[dataFrame['fruit']=='carrot','weights']))\n",
        "print(\"The averge weight of carrots is \" + str(\"{:.1f}\".format(meanC)))"
      ],
      "execution_count": null,
      "outputs": [
        {
          "output_type": "stream",
          "text": [
            "    fruit  weights\n",
            "0  carrot      1.0\n",
            "1  banana      2.0\n",
            "2  banana      3.0\n",
            "3   apple      4.0\n",
            "4  banana      5.0\n",
            "5  carrot      6.0\n",
            "6   apple      7.0\n",
            "7  carrot      8.0\n",
            "8  banana      9.0\n",
            "9  banana     10.0\n",
            "\n",
            "The averge weight of apples is 5.5\n",
            "The averge weight of bananas is 5.8\n",
            "The averge weight of carrots is 5.0\n"
          ],
          "name": "stdout"
        }
      ]
    },
    {
      "cell_type": "markdown",
      "metadata": {
        "id": "g4lKaPIhtVrt"
      },
      "source": [
        "**Q3. Consider the below course_name array:**\n",
        "\n",
        "**Q3-1**: Write a NumPy program to get the indices of the sorted elements of **course_name** array.\n",
        "\n",
        "**Q3-2:** Write numpy code to check whether each element of **course_name** array starts with \"P\".\n"
      ]
    },
    {
      "cell_type": "code",
      "metadata": {
        "id": "RUP_jp2KtVrx",
        "colab": {
          "base_uri": "https://localhost:8080/"
        },
        "outputId": "92298b0c-734d-41de-b735-bb4ab2d341cb"
      },
      "source": [
        "import numpy as np\n",
        "course_name = np.array(['Python', 'JS', 'examples', 'PHP', 'html'])\n",
        "#solution\n",
        "print(\"The original array is \" + str(course_name) + \".\")\n",
        "indices_sorted = np.argsort(course_name)\n",
        "print(\"The indices of the sorted elements of course_name array are \" + str(indices_sorted) + \".\") #Q3-1\n",
        "check = np.char.startswith((course_name), \"P\")\n",
        "print(\"The checked result is \" + str(check) + \".\") #Q3-2"
      ],
      "execution_count": null,
      "outputs": [
        {
          "output_type": "stream",
          "text": [
            "The original array is ['Python' 'JS' 'examples' 'PHP' 'html'].\n",
            "The indices of the sorted elements of course_name array are [1 3 0 2 4].\n",
            "The checked result is [ True False False  True False].\n"
          ],
          "name": "stdout"
        }
      ]
    },
    {
      "cell_type": "markdown",
      "metadata": {
        "id": "sUFItNFOxwkz"
      },
      "source": [
        "**Q4. Consider the below student_id array:**\n",
        "\n",
        "**Q4-1:** Reverse the **student_id** array. Print both original and reversed array.\n",
        "\n",
        "**Q4-2:** Get the 3-largest values of **student_id** array."
      ]
    },
    {
      "cell_type": "code",
      "metadata": {
        "id": "Rl5qzEjFv0nw",
        "colab": {
          "base_uri": "https://localhost:8080/"
        },
        "outputId": "d3e34ed9-4d1f-4863-eeb4-6a93d7c4e75d"
      },
      "source": [
        "import numpy as np\n",
        "student_id = np.array([1023, 5202, 6230, 1671, 1682, 5241, 4532])\n",
        "#solution\n",
        "reversed_id = student_id[::-1]\n",
        "print(\"The original array is \" + str(student_id) + \". The reversed array is \" + str(reversed_id) + \".\") #Q4-1\n",
        "sorted_id = np.sort(student_id)\n",
        "three_largest = sorted_id[-3:]\n",
        "print(\"The 3-largest values of the student_id array are \" + ', '.join(map(str, three_largest)) + \".\") #Q4-2"
      ],
      "execution_count": null,
      "outputs": [
        {
          "output_type": "stream",
          "text": [
            "The original array is [1023 5202 6230 1671 1682 5241 4532]. The reversed array is [4532 5241 1682 1671 6230 5202 1023].\n",
            "The 3-largest values of the student_id array are 5202, 5241, 6230.\n"
          ],
          "name": "stdout"
        }
      ]
    },
    {
      "cell_type": "markdown",
      "metadata": {
        "id": "uKRyDVuW6B19"
      },
      "source": [
        "# **Q5: Write a numpy program to print sum of all the multiples of 3 or 5 below 100**"
      ]
    },
    {
      "cell_type": "code",
      "metadata": {
        "id": "ZIixq1gz6OK3",
        "colab": {
          "base_uri": "https://localhost:8080/"
        },
        "outputId": "2893b774-8f57-45a8-f2b5-13c93ed6ee19"
      },
      "source": [
        "import numpy as np\n",
        "number = np.arange(1,100)\n",
        "multiples = number[(number%3==0)|(number%5==0)]\n",
        "print(\"The sum of all the multiples of 3 or 5 below 100 is \" + str(multiples.sum()) + \".\")"
      ],
      "execution_count": null,
      "outputs": [
        {
          "output_type": "stream",
          "text": [
            "The sum of all the multiples of 3 or 5 below 100 is 2318.\n"
          ],
          "name": "stdout"
        }
      ]
    },
    {
      "cell_type": "markdown",
      "metadata": {
        "id": "2CWJOsP24c34"
      },
      "source": [
        "**Q6. Consider the below array.**\n",
        "\n",
        "Q6.1. Write a code to swap column 1 with column 2.\n",
        "\n",
        "Q6.2. Write a code to swap row 0 with row 1."
      ]
    },
    {
      "cell_type": "code",
      "metadata": {
        "id": "3OG6X5Eg5KSM",
        "colab": {
          "base_uri": "https://localhost:8080/"
        },
        "outputId": "3fde671a-4071-4494-8307-cebfbd9eb4d3"
      },
      "source": [
        "import numpy as np\n",
        "\n",
        "arr = np.arange(12).reshape(3,4)\n",
        "print(arr)\n",
        "#solution\n",
        "swapColumn = arr.copy()\n",
        "swapColumn[:,[1,2]] = swapColumn[:,[2,1]]\n",
        "print()\n",
        "print(\"After swapping column 1 with column 2, the array is \")\n",
        "print(str(swapColumn)) #Q6-1\n",
        "swapRow = arr.copy()\n",
        "swapRow[[0,1],:] = swapRow[[1,0],:]\n",
        "print()\n",
        "print(\"After swapping row 0 with row 1, the array is \")\n",
        "print(str(swapRow)) #Q6-2"
      ],
      "execution_count": null,
      "outputs": [
        {
          "output_type": "stream",
          "text": [
            "[[ 0  1  2  3]\n",
            " [ 4  5  6  7]\n",
            " [ 8  9 10 11]]\n",
            "\n",
            "After swapping column 1 with column 2, the array is \n",
            "[[ 0  2  1  3]\n",
            " [ 4  6  5  7]\n",
            " [ 8 10  9 11]]\n",
            "\n",
            "After swapping row 0 with row 1, the array is \n",
            "[[ 4  5  6  7]\n",
            " [ 0  1  2  3]\n",
            " [ 8  9 10 11]]\n"
          ],
          "name": "stdout"
        }
      ]
    }
  ]
}